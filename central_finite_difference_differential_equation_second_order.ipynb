{
  "nbformat": 4,
  "nbformat_minor": 0,
  "metadata": {
    "colab": {
      "provenance": [],
      "authorship_tag": "ABX9TyPZCsjLZv9axg27SeYWODik",
      "include_colab_link": true
    },
    "kernelspec": {
      "name": "python3",
      "display_name": "Python 3"
    },
    "language_info": {
      "name": "python"
    }
  },
  "cells": [
    {
      "cell_type": "markdown",
      "metadata": {
        "id": "view-in-github",
        "colab_type": "text"
      },
      "source": [
        "<a href=\"https://colab.research.google.com/github/Sahilmandalwar/Scientific_computing_codes/blob/main/central_finite_difference_differential_equation_second_order.ipynb\" target=\"_parent\"><img src=\"https://colab.research.google.com/assets/colab-badge.svg\" alt=\"Open In Colab\"/></a>"
      ]
    },
    {
      "cell_type": "code",
      "source": [
        "import numpy as np\n",
        "import math"
      ],
      "metadata": {
        "id": "z0O2LYjJiJkY"
      },
      "execution_count": null,
      "outputs": []
    },
    {
      "cell_type": "markdown",
      "source": [
        "**Differential Equation term must be:**\n",
        "\n",
        " *y`` + p(x)y` + q(x)y = r(x)*\n",
        "\n",
        " y(a) = A ,  y(b) = B where x belongs to [a,b]\n",
        "\n",
        "\n",
        "\n",
        "  Note :\n",
        "  1. p(x) is denoted as p_x(x)\n",
        "  2. q(x) is denoted as q_x(x)\n",
        "  3. r(x) is denoted as rhs\n",
        "  4. a_val is A\n",
        "  5. b_val is B\n",
        "  6. res_matrix is resultant matrix\n",
        "\n",
        "\n",
        "\n"
      ],
      "metadata": {
        "id": "sM0f1mogsc07"
      }
    },
    {
      "cell_type": "code",
      "execution_count": null,
      "metadata": {
        "id": "vE20AulWfM6O"
      },
      "outputs": [],
      "source": [
        "def p_x(x):   # define p(x) here\n",
        "  return 0\n",
        "\n",
        "def q_x(x):   # define q(x) here\n",
        "  return -1\n"
      ]
    },
    {
      "cell_type": "code",
      "source": [
        "def make_matrix(h,a,b,a_val,b_val,rhs):\n",
        "  x = a\n",
        "  rows = int((b - a) / h) - 1\n",
        "  A_array = []\n",
        "  for row in range(rows):\n",
        "    temp = []\n",
        "    for i in range(rows):\n",
        "      if(i == row - 1):\n",
        "        temp.append((1/h**2 - p_x((row + 1)*h + x)/2*h))\n",
        "      elif ( i == row):\n",
        "        temp.append(q_x((row + 1)*h + x) - 2/h**2)\n",
        "      elif (i ==  row+1):\n",
        "        temp.append((1/h**2 + p_x((row + 1)*h + x)/2*h))\n",
        "      else:\n",
        "        temp.append(0)\n",
        "    A_array.append(temp)\n",
        "\n",
        "  A_matrix = np.matrix(A_array)\n",
        "\n",
        "  B_array = []\n",
        "  for row in range(rows):\n",
        "    if(row == 0):\n",
        "      B_array.append(rhs - (1/h**2 - p_x((row + 1)*h + x)/2*h) * a_val)\n",
        "    elif (row == rows - 1):\n",
        "      B_array.append(rhs - (1/h**2 + p_x((row + 1)*h + x)/2*h) * b_val)\n",
        "    else:\n",
        "      B_array.append(rhs)\n",
        "\n",
        "  B_matrix = np.matrix(B_array)\n",
        "\n",
        "  return A_matrix, B_matrix"
      ],
      "metadata": {
        "id": "72L4pRb6fl2V"
      },
      "execution_count": null,
      "outputs": []
    },
    {
      "cell_type": "code",
      "source": [
        "h = 1/3   # step size\n",
        "a = 0      # initial point\n",
        "b = 1      # final point\n",
        "a_val = 0  # y value at initial_point\n",
        "b_val = math.e - 1 # y value at final_point\n",
        "rhs = 1    # rhs value"
      ],
      "metadata": {
        "id": "BUxP2pCrfj_8"
      },
      "execution_count": null,
      "outputs": []
    },
    {
      "cell_type": "code",
      "source": [
        "A,B = make_matrix(h,a,b,a_val,b_val,rhs)"
      ],
      "metadata": {
        "id": "h57TVPnSf9Rc"
      },
      "execution_count": null,
      "outputs": []
    },
    {
      "cell_type": "code",
      "source": [
        "A"
      ],
      "metadata": {
        "colab": {
          "base_uri": "https://localhost:8080/"
        },
        "id": "Bgqf6aprj4L5",
        "outputId": "50884e36-d0ea-4dfc-fdc1-dad21630430f"
      },
      "execution_count": null,
      "outputs": [
        {
          "output_type": "execute_result",
          "data": {
            "text/plain": [
              "matrix([[-19.,   9.],\n",
              "        [  9., -19.]])"
            ]
          },
          "metadata": {},
          "execution_count": 142
        }
      ]
    },
    {
      "cell_type": "code",
      "source": [
        "B"
      ],
      "metadata": {
        "colab": {
          "base_uri": "https://localhost:8080/"
        },
        "id": "Ivg-zEL5j5Yn",
        "outputId": "55a582a0-47d1-45e7-b706-f1aa14621ba1"
      },
      "execution_count": null,
      "outputs": [
        {
          "output_type": "execute_result",
          "data": {
            "text/plain": [
              "matrix([[  1.        , -14.46453646]])"
            ]
          },
          "metadata": {},
          "execution_count": 143
        }
      ]
    },
    {
      "cell_type": "code",
      "source": [
        "res_matrix = np.matmul(np.linalg.inv(A),B.T)"
      ],
      "metadata": {
        "id": "cGaaLh09gYUg"
      },
      "execution_count": null,
      "outputs": []
    },
    {
      "cell_type": "code",
      "source": [
        "res_matrix   # res_matrix is resultant matrix"
      ],
      "metadata": {
        "colab": {
          "base_uri": "https://localhost:8080/"
        },
        "id": "qizMIAIxjzgm",
        "outputId": "10041de4-bee2-4400-be85-225befa01d9c"
      },
      "execution_count": null,
      "outputs": [
        {
          "output_type": "execute_result",
          "data": {
            "text/plain": [
              "matrix([[0.39707439],\n",
              "        [0.94937926]])"
            ]
          },
          "metadata": {},
          "execution_count": 145
        }
      ]
    }
  ]
}