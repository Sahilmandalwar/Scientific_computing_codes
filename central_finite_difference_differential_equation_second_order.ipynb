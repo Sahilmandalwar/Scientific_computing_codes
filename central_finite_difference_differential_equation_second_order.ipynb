{
  "nbformat": 4,
  "nbformat_minor": 0,
  "metadata": {
    "colab": {
      "provenance": [],
      "authorship_tag": "ABX9TyPZCsjLZv9axg27SeYWODik",
      "include_colab_link": true
    },
    "kernelspec": {
      "name": "python3",
      "display_name": "Python 3"
    },
    "language_info": {
      "name": "python"
    }
  },
  "cells": [
    {
      "cell_type": "markdown",
      "metadata": {},
      "source": [
        "<a href=\"https://colab.research.google.com/github/Sahilmandalwar/Scientific_computing_codes/blob/main/central_finite_difference_differential_equation_second_order.ipynb\" target=\"_parent\"><img src=\"https://colab.research.google.com/assets/colab-badge.svg\" alt=\"Open In Colab\"/></a>"
      ]
    },
    {
      "cell_type": "code",
      "metadata": {},
      "source": [
        "import numpy as np\n",
        "import math"
      ],
      "execution_count": null,
      "outputs": []
    },
    {
      "cell_type": "markdown",
      "metadata": {},
      "source": [
        "**Differential Equation term must be:**\n",
        "\n",
        "*y`` + p(x)y` + q(x)y = r(x)*\n",
        "\n",
        "y(a) = A ,  y(b) = B where x belongs to [a,b]\n",
        "\n",
        "Note:\n",
        "1. p(x) is denoted as p_x(x)\n",
        "2. q(x) is denoted as q_x(x)\n",
        "3. r(x) is denoted as r_x(x)\n",
        "4. a_val is A\n",
        "5. b_val is B\n",
        "6. res_matrix is resultant matrix"
      ]
    },
    {
      "cell_type": "code",
      "metadata": {},
      "source": [
        "def p_x(x):\n",
        "    return 0\n",
        "\n",
        "def q_x(x):\n",
        "    return -1\n",
        "\n",
        "def r_x(x):\n",
        "    return 1"
      ],
      "execution_count": null,
      "outputs": []
    },
    {
      "cell_type": "code",
      "metadata": {},
      "source": [
        "def make_matrix(h, a, b, a_val, b_val):\n",
        "    x = a\n",
        "    rows = int((b - a) / h) - 1\n",
        "    A_array = []\n",
        "    for row in range(rows):\n",
        "        temp = []\n",
        "        x_val = a + (row + 1) * h\n",
        "        for i in range(rows):\n",
        "            if i == row - 1:\n",
        "                temp.append((1/h**2 - p_x(x_val) / (2*h)))\n",
        "            elif i == row:\n",
        "                temp.append(q_x(x_val) - 2/h**2)\n",
        "            elif i == row + 1:\n",
        "                temp.append((1/h**2 + p_x(x_val) / (2*h)))\n",
        "            else:\n",
        "                temp.append(0)\n",
        "        A_array.append(temp)\n",
        "    \n",
        "    A_matrix = np.matrix(A_array)\n",
        "    B_array = []\n",
        "    for row in range(rows):\n",
        "        x_val = a + (row + 1) * h\n",
        "        if row == 0:\n",
        "            B_array.append(r_x(x_val) - (1/h**2 - p_x(x_val)/(2*h)) * a_val)\n",
        "        elif row == rows - 1:\n",
        "            B_array.append(r_x(x_val) - (1/h**2 + p_x(x_val)/(2*h)) * b_val)\n",
        "        else:\n",
        "            B_array.append(r_x(x_val))\n",
        "    B_matrix = np.matrix(B_array)\n",
        "    return A_matrix, B_matrix"
      ],
      "execution_count": null,
      "outputs": []
    },
    {
      "cell_type": "code",
      "metadata": {},
      "source": [
        "h = 1/3\n",
        "a = 0\n",
        "b = 1\n",
        "a_val = 0\n",
        "b_val = math.e - 1"
      ],
      "execution_count": null,
      "outputs": []
    },
    {
      "cell_type": "code",
      "metadata": {},
      "source": [
        "A, B = make_matrix(h, a, b, a_val, b_val)"
      ],
      "execution_count": null,
      "outputs": []
    },
    {
      "cell_type": "code",
      "metadata": {},
      "source": [
        "print(\"Matrix A:\")\n",
        "print(A)\n",
        "\n",
        "print(\"\\nMatrix B:\")\n",
        "print(B.T)"
      ],
      "execution_count": null,
      "outputs": []
    },
    {
      "cell_type": "code",
      "metadata": {},
      "source": [
        "res_matrix = np.linalg.solve(A, B.T)\n",
        "res_matrix"
      ],
      "execution_count": null,
      "outputs": []
    }
  ]
}
